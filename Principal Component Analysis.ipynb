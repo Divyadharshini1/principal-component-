{
 "cells": [
  {
   "cell_type": "code",
   "execution_count": 2,
   "id": "6261ea0d",
   "metadata": {},
   "outputs": [
    {
     "name": "stdout",
     "output_type": "stream",
     "text": [
      "Explained variance ratio: [1.00000000e+00 5.54410523e-34]\n"
     ]
    },
    {
     "data": {
      "image/png": "[encoded data removed]",
      "text/plain": [
       "<Figure size 432x288 with 1 Axes>"
      ]
     },
     "metadata": {
      "needs_background": "light"
     },
     "output_type": "display_data"
    }
   ],
   "source": [
    "import numpy as np\n",
    "import pandas as pd\n",
    "from sklearn.decomposition import PCA\n",
    "from sklearn.preprocessing import StandardScaler\n",
    "import matplotlib.pyplot as plt\n",
    "# Sample data\n",
    "data = pd.DataFrame({\n",
    "    'Feature1': [1, 2, 3, 4, 5],\n",
    "    'Feature2': [5, 4, 3, 2, 1],\n",
    "    'Feature3': [2, 3, 4, 5, 6]\n",
    "})\n",
    "# Assuming 'data' is your DataFrame containing the features\n",
    "scaler = StandardScaler()\n",
    "scaled_data = scaler.fit_transform(data)\n",
    "# Specify the number of components you want to retain\n",
    "num_components = 2  # for example\n",
    "# Initialize PCA with the desired number of components\n",
    "pca = PCA(n_components=num_components)\n",
    "\n",
    "# Fit PCA to the scaled data\n",
    "pca.fit(scaled_data)\n",
    "# Transform the data onto the new feature space\n",
    "transformed_data = pca.transform(scaled_data)\n",
    "# Explained variance ratio\n",
    "explained_variance = pca.explained_variance_ratio_\n",
    "print(\"Explained variance ratio:\", explained_variance)\n",
    "# Plot PCA results\n",
    "plt.scatter(transformed_data[:, 0], transformed_data[:, 1])\n",
    "plt.xlabel('Principal Component 1')\n",
    "plt.ylabel('Principal Component 2')\n",
    "plt.title('PCA Plot')\n",
    "plt.show()\n"
   ]
  }
 ],
 "metadata": {
  "kernelspec": {
   "display_name": "Python 3 (ipykernel)",
   "language": "python",
   "name": "python3"
  },
  "language_info": {
   "codemirror_mode": {
    "name": "ipython",
    "version": 3
   },
   "file_extension": ".py",
   "mimetype": "text/x-python",
   "name": "python",
   "nbconvert_exporter": "python",
   "pygments_lexer": "ipython3",
   "version": "3.9.12"
  }
 },
 "nbformat": 4,
 "nbformat_minor": 5
}
